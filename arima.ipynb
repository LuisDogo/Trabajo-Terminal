{
 "cells": [
  {
   "cell_type": "code",
   "execution_count": null,
   "id": "cc0ded4f",
   "metadata": {},
   "outputs": [],
   "source": []
  },
  {
   "cell_type": "markdown",
   "id": "dd8ab8cb",
   "metadata": {},
   "source": [
    "## Box-Jenkins Methodology"
   ]
  },
  {
   "cell_type": "markdown",
   "id": "f3740994",
   "metadata": {},
   "source": [
    "### Estacionariedad\n",
    "Es estacionaria? inducir estacionariedad"
   ]
  },
  {
   "cell_type": "code",
   "execution_count": null,
   "id": "16147d86",
   "metadata": {},
   "outputs": [],
   "source": []
  },
  {
   "cell_type": "markdown",
   "id": "253bf3fe",
   "metadata": {},
   "source": [
    "### Identificación\n",
    "Identificar posibled modelos"
   ]
  },
  {
   "cell_type": "code",
   "execution_count": null,
   "id": "56f406ae",
   "metadata": {},
   "outputs": [],
   "source": []
  },
  {
   "cell_type": "markdown",
   "id": "73ba17d3",
   "metadata": {},
   "source": [
    "### Estimación\n",
    "Estimar parámetros de modelos tentativos"
   ]
  },
  {
   "cell_type": "markdown",
   "id": "4f46bd23",
   "metadata": {},
   "source": []
  },
  {
   "cell_type": "markdown",
   "id": "da2a4716",
   "metadata": {},
   "source": [
    "### Evaluación\n",
    "Son adecuados los modelos estimados sobre la serie estacionaria?"
   ]
  },
  {
   "cell_type": "markdown",
   "id": "e556ab78",
   "metadata": {},
   "source": []
  },
  {
   "cell_type": "markdown",
   "id": "026765f5",
   "metadata": {},
   "source": [
    "### Pronósticos\n",
    "Reestablecer no-estacionariedad <br>\n",
    "¿Los pronósticos son adecuados?"
   ]
  },
  {
   "cell_type": "code",
   "execution_count": null,
   "id": "a6ee971b",
   "metadata": {
    "vscode": {
     "languageId": "plaintext"
    }
   },
   "outputs": [],
   "source": []
  }
 ],
 "metadata": {
  "language_info": {
   "name": "python"
  }
 },
 "nbformat": 4,
 "nbformat_minor": 5
}
