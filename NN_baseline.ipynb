{
 "cells": [
  {
   "cell_type": "code",
   "execution_count": 1,
   "id": "c0651768",
   "metadata": {},
   "outputs": [],
   "source": [
    "import numpy as np\n",
    "import pandas as pd\n",
    "from sklearn.model_selection import train_test_split\n",
    "import matplotlib.pyplot as plt\n",
    "import seaborn as sns\n",
    "sns.set_theme()"
   ]
  },
  {
   "cell_type": "code",
   "execution_count": 2,
   "id": "e1c7e2ee",
   "metadata": {},
   "outputs": [],
   "source": [
    "import torch\n",
    "from torch import nn\n",
    "from torch.utils.data import DataLoader, Dataset\n",
    "from torchvision.transforms import ToTensor\n",
    "import torch.optim as optim"
   ]
  },
  {
   "cell_type": "code",
   "execution_count": 3,
   "id": "0b3348de",
   "metadata": {},
   "outputs": [],
   "source": [
    "#! Hyperparameters\n",
    "\n",
    "# 1 layer of 50 neurons\n",
    "# loss function: mean root square error\n",
    "# optimizer: stochastic gradient descent\n",
    "# epocs = 200\n",
    "\n",
    "batch_size = 64\n",
    "validation = .2\n",
    "learning_rate = .01\n",
    "seed = 42"
   ]
  },
  {
   "cell_type": "code",
   "execution_count": 4,
   "id": "68a404ef",
   "metadata": {},
   "outputs": [],
   "source": [
    "class TabularDataset(Dataset):\n",
    "    def __init__(self, X, y):\n",
    "        self.X = torch.tensor(X.values, dtype=torch.float32)\n",
    "        self.y = torch.tensor(y.values, dtype=torch.float32)\n",
    "\n",
    "    def __len__(self):\n",
    "        return len(self.X)\n",
    "\n",
    "    def __getitem__(self, idx):\n",
    "        return self.X[idx], self.y[idx]"
   ]
  },
  {
   "cell_type": "code",
   "execution_count": 5,
   "id": "ea7de52f",
   "metadata": {},
   "outputs": [],
   "source": [
    "df = pd.read_csv(\"Data/Processed/data.csv\")\n",
    "X = df.loc[:, df.columns != 'glucose_t+1']\n",
    "y = df[\"glucose_t+1\"]"
   ]
  },
  {
   "cell_type": "code",
   "execution_count": 6,
   "id": "95be6b3f",
   "metadata": {},
   "outputs": [],
   "source": [
    "X_train_val, X_test, y_train_val, y_test = train_test_split(X, y, test_size=0.2, random_state = seed)\n",
    "X_train, X_val, y_train, y_val = train_test_split(X_train_val, y_train_val, test_size=0.2, random_state = seed)\n",
    "\n",
    "train_data = TabularDataset(X_train, y_train)\n",
    "val_data = TabularDataset(X_val, y_val)\n",
    "test_data = TabularDataset(X_test, y_test)"
   ]
  },
  {
   "cell_type": "code",
   "execution_count": 7,
   "id": "dfa3be95",
   "metadata": {},
   "outputs": [],
   "source": [
    "train_loader = DataLoader(train_data, batch_size=batch_size)\n",
    "test_loader = DataLoader(test_data, batch_size=batch_size)\n",
    "validation_loader = DataLoader(val_data, batch_size=batch_size) "
   ]
  },
  {
   "cell_type": "code",
   "execution_count": null,
   "id": "0570a1a2",
   "metadata": {},
   "outputs": [],
   "source": [
    "# Define the Neural Network\n",
    "class BaseLine(nn.Module):\n",
    "    def __init__(self, input_dim):\n",
    "        super(BaseLine, self).__init__()\n",
    "        self.fc = nn.Linear(input_dim, 50)\n",
    "        self.output = nn.Linear(50, 1)\n",
    "\n",
    "    def forward(self, x):\n",
    "        x = torch.relu(self.fc(x))\n",
    "        return self.output(x)\n",
    "\n",
    "# Initialize model, optimizer\n",
    "input_dim = X.shape[1]\n",
    "model = BaseLine(input_dim=input_dim)\n",
    "optimizer = torch.optim.Adam(model.parameters(), lr=learning_rate)\n",
    "\n",
    "\n",
    "# Define MRSE Loss Function\n",
    "def MRSELoss(preds, targets):\n",
    "    return torch.sqrt(nn.MSELoss()(preds, targets))\n",
    "\n",
    "# Training & Validation\n",
    "num_epochs = 600\n",
    "train_loss_mrse = []\n",
    "val_loss_mrse = []\n",
    "for epoch in range(num_epochs):\n",
    "    model.train()\n",
    "    train_loss = 0\n",
    "    for batch_X, batch_y in train_loader:\n",
    "        batch_y = batch_y.view(-1, 1).float()\n",
    "        optimizer.zero_grad()\n",
    "        outputs = model(batch_X)\n",
    "        loss = MRSELoss(outputs, batch_y)\n",
    "        loss.backward()\n",
    "        optimizer.step()\n",
    "        train_loss += loss.item()\n",
    "\n",
    "    avg_train_loss = train_loss / len(train_loader)\n",
    "    train_loss_mrse.append(avg_train_loss)\n",
    "\n",
    "    # --- Validation ---\n",
    "    model.eval()\n",
    "    val_loss = 0\n",
    "    with torch.no_grad():\n",
    "        for val_X, val_y in validation_loader:\n",
    "            val_y = val_y.view(-1, 1).float()\n",
    "            preds = model(val_X)\n",
    "            loss = MRSELoss(preds, val_y)\n",
    "            val_loss += loss.item()\n",
    "\n",
    "    avg_val_loss = val_loss / len(validation_loader)\n",
    "    val_loss_mrse.append(avg_val_loss)\n",
    "\n",
    "    print(f\"Epoch {epoch+1}/{num_epochs} | Train MRSE: {avg_train_loss:.4f} | Val MRSE: {avg_val_loss:.4f}\")\n"
   ]
  },
  {
   "cell_type": "code",
   "execution_count": null,
   "id": "75072ee6",
   "metadata": {},
   "outputs": [],
   "source": [
    "fig, ax = plt.subplots()\n",
    "ax.plot(train_loss_mrse, color = \"blue\", label = \"AVG train loss\")\n",
    "ax.plot(val_loss_mrse, color = \"red\", label = \"AVG validation loss\")\n",
    "ax.set_xlabel(\"Epochs\")\n",
    "ax.set_ylabel(\"Mean Root Square Error\")\n",
    "plt.legend()\n",
    "plt.show()"
   ]
  }
 ],
 "metadata": {
  "kernelspec": {
   "display_name": "Python 3",
   "language": "python",
   "name": "python3"
  },
  "language_info": {
   "codemirror_mode": {
    "name": "ipython",
    "version": 3
   },
   "file_extension": ".py",
   "mimetype": "text/x-python",
   "name": "python",
   "nbconvert_exporter": "python",
   "pygments_lexer": "ipython3",
   "version": "3.12.3"
  }
 },
 "nbformat": 4,
 "nbformat_minor": 5
}
